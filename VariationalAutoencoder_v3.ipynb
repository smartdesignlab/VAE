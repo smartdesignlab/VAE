{
  "nbformat": 4,
  "nbformat_minor": 0,
  "metadata": {
    "kernelspec": {
      "name": "python3",
      "display_name": "Python 3"
    },
    "language_info": {
      "codemirror_mode": {
        "name": "ipython",
        "version": 3
      },
      "file_extension": ".py",
      "mimetype": "text/x-python",
      "name": "python",
      "nbconvert_exporter": "python",
      "pygments_lexer": "ipython3",
      "version": "3.5.3"
    },
    "colab": {
      "name": "VariationalAutoencoder_v3",
      "version": "0.3.2",
      "provenance": [],
      "collapsed_sections": []
    },
    "accelerator": "GPU"
  },
  "cells": [
    {
      "cell_type": "markdown",
      "metadata": {
        "id": "NC-4N-Swzmcr",
        "colab_type": "text"
      },
      "source": [
        "# Variational Autoencoder "
      ]
    },
    {
      "cell_type": "markdown",
      "metadata": {
        "id": "D9xkGTyK0Csd",
        "colab_type": "text"
      },
      "source": [
        " ![대체 텍스트](https://drive.google.com/uc?id=1TYKx4NcNgeoILad7bdjPb59jwQXxS993)\n",
        "\n",
        "[출처 : https://www.youtube.com/watch?v=rNh2CrTFpm4]\n",
        " "
      ]
    },
    {
      "cell_type": "markdown",
      "metadata": {
        "id": "qLfHipUj2ulf",
        "colab_type": "text"
      },
      "source": [
        "## TensorFlow 및 기타 라이브러리 가져오기"
      ]
    },
    {
      "cell_type": "code",
      "metadata": {
        "id": "keauGrrszmct",
        "colab_type": "code",
        "colab": {}
      },
      "source": [
        "import numpy as np\n",
        "import tensorflow as tf\n",
        "import matplotlib.pyplot as plt\n",
        "%matplotlib inline\n",
        "\n",
        "np.random.seed(0)\n",
        "tf.set_random_seed(0)\n"
      ],
      "execution_count": 0,
      "outputs": []
    },
    {
      "cell_type": "markdown",
      "metadata": {
        "id": "AB58R_sK3WSi",
        "colab_type": "text"
      },
      "source": [
        "## MNIST 데이터 셋 로드"
      ]
    },
    {
      "cell_type": "code",
      "metadata": {
        "scrolled": true,
        "id": "VqZTpiqczmcx",
        "colab_type": "code",
        "outputId": "06b94605-15ac-497a-86e8-297b703317b5",
        "colab": {
          "base_uri": "https://localhost:8080/",
          "height": 442
        }
      },
      "source": [
        "from tensorflow.examples.tutorials.mnist import input_data\n",
        "mnist = input_data.read_data_sets(\"MNIST_data\", one_hot=True)\n",
        "n_samples = mnist.train.num_examples"
      ],
      "execution_count": 0,
      "outputs": [
        {
          "output_type": "stream",
          "text": [
            "WARNING: Logging before flag parsing goes to stderr.\n",
            "W0807 05:48:51.326843 139765526951808 deprecation.py:323] From <ipython-input-2-1c19054655b8>:2: read_data_sets (from tensorflow.contrib.learn.python.learn.datasets.mnist) is deprecated and will be removed in a future version.\n",
            "Instructions for updating:\n",
            "Please use alternatives such as official/mnist/dataset.py from tensorflow/models.\n",
            "W0807 05:48:51.328531 139765526951808 deprecation.py:323] From /usr/local/lib/python3.6/dist-packages/tensorflow/contrib/learn/python/learn/datasets/mnist.py:260: maybe_download (from tensorflow.contrib.learn.python.learn.datasets.base) is deprecated and will be removed in a future version.\n",
            "Instructions for updating:\n",
            "Please write your own downloading logic.\n",
            "W0807 05:48:51.329556 139765526951808 deprecation.py:323] From /usr/local/lib/python3.6/dist-packages/tensorflow/contrib/learn/python/learn/datasets/mnist.py:262: extract_images (from tensorflow.contrib.learn.python.learn.datasets.mnist) is deprecated and will be removed in a future version.\n",
            "Instructions for updating:\n",
            "Please use tf.data to implement this functionality.\n"
          ],
          "name": "stderr"
        },
        {
          "output_type": "stream",
          "text": [
            "Extracting MNIST_data/train-images-idx3-ubyte.gz\n"
          ],
          "name": "stdout"
        },
        {
          "output_type": "stream",
          "text": [
            "W0807 05:48:51.639190 139765526951808 deprecation.py:323] From /usr/local/lib/python3.6/dist-packages/tensorflow/contrib/learn/python/learn/datasets/mnist.py:267: extract_labels (from tensorflow.contrib.learn.python.learn.datasets.mnist) is deprecated and will be removed in a future version.\n",
            "Instructions for updating:\n",
            "Please use tf.data to implement this functionality.\n",
            "W0807 05:48:51.642405 139765526951808 deprecation.py:323] From /usr/local/lib/python3.6/dist-packages/tensorflow/contrib/learn/python/learn/datasets/mnist.py:110: dense_to_one_hot (from tensorflow.contrib.learn.python.learn.datasets.mnist) is deprecated and will be removed in a future version.\n",
            "Instructions for updating:\n",
            "Please use tf.one_hot on tensors.\n",
            "W0807 05:48:51.701383 139765526951808 deprecation.py:323] From /usr/local/lib/python3.6/dist-packages/tensorflow/contrib/learn/python/learn/datasets/mnist.py:290: DataSet.__init__ (from tensorflow.contrib.learn.python.learn.datasets.mnist) is deprecated and will be removed in a future version.\n",
            "Instructions for updating:\n",
            "Please use alternatives such as official/mnist/dataset.py from tensorflow/models.\n"
          ],
          "name": "stderr"
        },
        {
          "output_type": "stream",
          "text": [
            "Extracting MNIST_data/train-labels-idx1-ubyte.gz\n",
            "Extracting MNIST_data/t10k-images-idx3-ubyte.gz\n",
            "Extracting MNIST_data/t10k-labels-idx1-ubyte.gz\n"
          ],
          "name": "stdout"
        }
      ]
    },
    {
      "cell_type": "markdown",
      "metadata": {
        "id": "bzuagd33zmdA",
        "colab_type": "text"
      },
      "source": [
        "## VAE 모델 구축\n",
        "\n",
        "   \n",
        "### Keypoint : 손실 함수 정의\n",
        "\n",
        "#### VAE는 Log Likelihood에 대한 ELBO를 극대화 함으로써 최적화 합니다.\n",
        "\n",
        "![대체 텍스트](https://drive.google.com/uc?id=1iNNT4PBS3dUeJ4ZYPmqWaU_7-ZUJRYyg)\n",
        "\n",
        "[출처 :https://www.youtube.com/watch?v=rNh2CrTFpm4]"
      ]
    },
    {
      "cell_type": "code",
      "metadata": {
        "id": "wKhvPo7-zmdE",
        "colab_type": "code",
        "colab": {}
      },
      "source": [
        "class VariationalAutoencoder(object):\n",
        "    def __init__(self, network_architecture, transfer_fct=tf.nn.softplus, \n",
        "                 learning_rate=0.001, batch_size=100):\n",
        "      \n",
        "      self.network_architecture = network_architecture\n",
        "      # 파라미터 정의\n",
        "      self.transfer_fct = transfer_fct \n",
        "      self.learning_rate = learning_rate \n",
        "      self.batch_size = batch_size\n",
        "\n",
        "      # Placeholder 정의\n",
        "      self.x = tf.placeholder(tf.float32, [None, network_architecture[\"n_input\"]])\n",
        "\n",
        "      # Create autoencoder network\n",
        "      self._create_network()\n",
        "\n",
        "      # Define loss function based variational upper-bound and corresponding optimizer\n",
        "      self._create_loss_optimizer()\n",
        "\n",
        "      # 텐서 플로우 변수 초기화\n",
        "      init = tf.global_variables_initializer()\n",
        "\n",
        "      # 세션 시작\n",
        "      self.sess = tf.InteractiveSession()\n",
        "      self.sess.run(init)\n",
        "             \n",
        "    #인코더,디코더의 가중치와 바이어스를 초기화 하는 함수\n",
        "    def _initialize_weights(self, n_hidden_recog_1, n_hidden_recog_2, n_hidden_gener_1, n_hidden_gener_2, n_input, n_z):\n",
        "    \n",
        "        all_weights = dict()\n",
        "        all_weights['weights_encoder'] = {\n",
        "            'h1': tf.Variable(xavier_init(n_input, n_hidden_recog_1)),\n",
        "            'h2': tf.Variable(xavier_init(n_hidden_recog_1, n_hidden_recog_2)),\n",
        "            'out_mean': tf.Variable(xavier_init(n_hidden_recog_2, n_z)),\n",
        "            'out_log_sigma': tf.Variable(xavier_init(n_hidden_recog_2, n_z))}\n",
        "        \n",
        "        all_weights['biases_encoder'] = {\n",
        "            'b1': tf.Variable(tf.zeros([n_hidden_recog_1], dtype=tf.float32)),\n",
        "            'b2': tf.Variable(tf.zeros([n_hidden_recog_2], dtype=tf.float32)),\n",
        "            'out_mean': tf.Variable(tf.zeros([n_z], dtype=tf.float32)),\n",
        "            'out_log_sigma': tf.Variable(tf.zeros([n_z], dtype=tf.float32))}\n",
        "        \n",
        "        all_weights['weights_decoder'] = {\n",
        "            'h1': tf.Variable(xavier_init(n_z, n_hidden_gener_1)),\n",
        "            'h2': tf.Variable(xavier_init(n_hidden_gener_1, n_hidden_gener_2)),\n",
        "            'out_mean': tf.Variable(xavier_init(n_hidden_gener_2, n_input)),\n",
        "            'out_log_sigma': tf.Variable(xavier_init(n_hidden_gener_2, n_input))}\n",
        "        \n",
        "        all_weights['biases_decoder'] = {\n",
        "            'b1': tf.Variable(tf.zeros([n_hidden_gener_1], dtype=tf.float32)),\n",
        "            'b2': tf.Variable(tf.zeros([n_hidden_gener_2], dtype=tf.float32)),\n",
        "            'out_mean': tf.Variable(tf.zeros([n_input], dtype=tf.float32)),\n",
        "            'out_log_sigma': tf.Variable(tf.zeros([n_input], dtype=tf.float32))}\n",
        "        \n",
        "        return all_weights\n",
        "   \n",
        "    def _encoder_network(self, weights, biases):\n",
        "        # Encoder = Recognition network\n",
        "        # Q(z|X) -- encoder \n",
        "        # 정규분포의 잠재공간에 입력데이터를 매핑하는 확률론적 인코더네트워크 생성 \n",
        "        \n",
        "        #2개 fc층을 생성\n",
        "        layer_1 = self.transfer_fct(tf.add(tf.matmul(self.x, weights['h1']), biases['b1'])) \n",
        "        layer_2 = self.transfer_fct(tf.add(tf.matmul(layer_1, weights['h2']), biases['b2'])) \n",
        "        #2번째 층의 출력을 z_mean(평균)와 z_log_sigma(표준편차)에 연결\n",
        "        z_mean = tf.add(tf.matmul(layer_2, weights['out_mean']),biases['out_mean']) \n",
        "        z_log_sigma = tf.add(tf.matmul(layer_2, weights['out_log_sigma']), biases['out_log_sigma'])\n",
        "        return (z_mean, z_log_sigma)\n",
        "\n",
        "    def _decoder_network(self, weights, biases):\n",
        "        # 잠재공간을 Bernouli분포에 매핑하는 확률론적 디코더네트워크 생성\n",
        "        # Decoder = Generation network\n",
        "        # 2개 fc층 생성\n",
        "        layer_1 = self.transfer_fct(tf.add(tf.matmul(self.z, weights['h1']),biases['b1'])) \n",
        "        layer_2 = self.transfer_fct(tf.add(tf.matmul(layer_1, weights['h2']),biases['b2']))\n",
        "        \n",
        "        #복원된 데이터 분포의 평균을 (0,1)범위로 출력\n",
        "        x_reconstr_mean = tf.nn.sigmoid(tf.add(tf.matmul(layer_2, weights['out_mean']), biases['out_mean']))\n",
        "        return x_reconstr_mean\n",
        "            \n",
        "    \n",
        "    def _create_network(self):\n",
        "        # 오토인코더의 가중치 및 바이어스 초기화\n",
        "        network_weights = self._initialize_weights(**self.network_architecture)\n",
        "\n",
        "        # 인코더 네트워크를 사용하여 잠재 공간에서의 가우스 분포의 평균과 (로그)표준편차를 결정\n",
        "        self.z_mean, self.z_log_sigma = self._encoder_network(network_weights[\"weights_encoder\"], network_weights[\"biases_encoder\"])\n",
        "\n",
        "        # 가우시안 분포로 부터 한개의 z를 샘플링\n",
        "        n_z = self.network_architecture[\"n_z\"]\n",
        "        eps = tf.random_normal((self.batch_size, n_z), 0, 1, dtype=tf.float32)\n",
        "        \n",
        "        # 잠재변수 z 선언 (= 𝜇 + 𝜎 * 𝜀)\n",
        "        self.z = tf.add(self.z_mean,tf.multiply(tf.sqrt(tf.exp(self.z_log_sigma)), eps))\n",
        "\n",
        "        # 디코더 네트워크를 사용하여 복원된 데이터의 베르누이 분포 평균 결정\n",
        "        self.x_reconstr_mean = self._decoder_network(network_weights[\"weights_decoder\"],network_weights[\"biases_decoder\"])\n",
        "        \n",
        "    def _create_loss_optimizer(self):\n",
        "        # The loss is composed of two terms:\n",
        "        # 1_The reconstruction loss \n",
        "        # Adding 1e-10 to avoid evaluation of log(0.0)\n",
        "        reconstr_loss = -tf.reduce_sum(self.x * tf.log(1e-10 + self.x_reconstr_mean) + (1-self.x) * tf.log(1e-10 + 1 - self.x_reconstr_mean),1)\n",
        "        # 2_Latent loss is Kullback Leibler Loss\n",
        "        latent_loss = -0.5 * tf.reduce_sum(1 + self.z_log_sigma - tf.square(self.z_mean) - tf.exp(self.z_log_sigma), 1)\n",
        "        self.cost = tf.reduce_mean(reconstr_loss + latent_loss) # average over batch\n",
        "        # Use ADAM optimizer\n",
        "        self.optimizer = tf.train.AdamOptimizer(learning_rate=self.learning_rate).minimize(self.cost)\n",
        "            \n",
        "            \n",
        "        \n",
        "    def fit(self, X):\n",
        "        #미니배치 모델을 훈련시킴(cost 반환) \n",
        "        opt, cost = self.sess.run((self.optimizer, self.cost),feed_dict={self.x: X})\n",
        "        return cost\n",
        "    \n",
        "    def transform(self, X):\n",
        "        # 잠재 공간안으로 데이터를 맵핑하여 변환함.\n",
        "        # Note: This maps to mean of distribution, we could alternatively sample from Gaussian distribution\n",
        "        return self.sess.run(self.z_mean, feed_dict={self.x: X})\n",
        "    \n",
        "    def generate(self, z_mu=None):\n",
        "        #잠재된 공간으로부터 데이터를 샘플링하여 생성함.\n",
        "        if z_mu is None:\n",
        "            z_mu = np.random.normal(size=self.network_architecture[\"n_z\"])\n",
        "        # Note: This maps to mean of distribution, we could alternatively sample from Gaussian distribution\n",
        "        return self.sess.run(self.x_reconstr_mean, \n",
        "                             feed_dict={self.z: z_mu})\n",
        "    \n",
        "    def reconstruct(self, X):\n",
        "        # 주어진 데이터를 복원 하기위해 VAE를 사용.\n",
        "        return self.sess.run(self.x_reconstr_mean,feed_dict={self.x: X})"
      ],
      "execution_count": 0,
      "outputs": []
    },
    {
      "cell_type": "code",
      "metadata": {
        "id": "nJxEgostzmc3",
        "colab_type": "code",
        "colab": {}
      },
      "source": [
        "# Xavier Initialization : Weight 초기화 방법 중 하나로 표준 정규 분포를 입력 개수의 표준 편차로 나눔\n",
        "def xavier_init(fan_in, fan_out, constant=1): \n",
        "    low = -constant*np.sqrt(6.0/(fan_in + fan_out)) \n",
        "    high = constant*np.sqrt(6.0/(fan_in + fan_out))\n",
        "    return tf.random_uniform((fan_in, fan_out), \n",
        "                             minval=low, maxval=high, \n",
        "                             dtype=tf.float32)"
      ],
      "execution_count": 0,
      "outputs": []
    },
    {
      "cell_type": "markdown",
      "metadata": {
        "id": "UKjINGEtj9-z",
        "colab_type": "text"
      },
      "source": [
        "## Training\n",
        "\n"
      ]
    },
    {
      "cell_type": "markdown",
      "metadata": {
        "id": "6dDmSihxsYsp",
        "colab_type": "text"
      },
      "source": [
        "### 미니 배치를 사용하여 VAE Train함수 정의"
      ]
    },
    {
      "cell_type": "code",
      "metadata": {
        "id": "sscKeNOLzmdL",
        "colab_type": "code",
        "colab": {}
      },
      "source": [
        "def train(network_architecture, learning_rate=0.001, batch_size=100, training_epochs=10, display_step=5):\n",
        "    vae = VariationalAutoencoder(network_architecture,learning_rate=learning_rate,batch_size=batch_size)\n",
        "    for epoch in range(training_epochs):\n",
        "        avg_cost = 0.\n",
        "        total_batch = int(n_samples / batch_size)\n",
        "        # Loop over all batches\n",
        "        for i in range(total_batch):\n",
        "            batch_xs, _ = mnist.train.next_batch(batch_size)\n",
        "\n",
        "            # Fit training using batch data\n",
        "            cost = vae.fit(batch_xs)\n",
        "            # Compute average loss\n",
        "            avg_cost += cost / n_samples * batch_size\n",
        "\n",
        "        # Epoch당 로그 표시\n",
        "        if epoch % display_step == 0:\n",
        "            print(\"Epoch:\", '%04d' % (epoch+1), \n",
        "                  \"cost=\", \"{:.9f}\".format(avg_cost))\n",
        "    return vae"
      ],
      "execution_count": 0,
      "outputs": []
    },
    {
      "cell_type": "markdown",
      "metadata": {
        "id": "RgF95DWr0vSE",
        "colab_type": "text"
      },
      "source": [
        "### Trainning start!\n",
        "\n",
        "이제 네트워크 토폴로지를 지정하기만 하면 MNIST에서 VAE를 학습할 수 있습니다. "
      ]
    },
    {
      "cell_type": "markdown",
      "metadata": {
        "id": "fhtAOTFcv31j",
        "colab_type": "text"
      },
      "source": [
        "####2개의 Latent space를 가진 VAE 훈련 (z = 2) "
      ]
    },
    {
      "cell_type": "code",
      "metadata": {
        "id": "BrYswPRRzmdY",
        "colab_type": "code",
        "outputId": "910c97e1-cf07-40da-872c-c502fd0834bd",
        "colab": {
          "base_uri": "https://localhost:8080/",
          "height": 281
        }
      },
      "source": [
        "network_architecture = \\\n",
        "    dict(n_hidden_recog_1=500, # 1st layer encoder neurons\n",
        "         n_hidden_recog_2=500, # 2nd layer encoder neurons\n",
        "         n_hidden_gener_1=500, # 1st layer decoder neurons\n",
        "         n_hidden_gener_2=500, # 2nd layer decoder neurons\n",
        "         n_input=784, # MNIST data input (img shape: 28*28)\n",
        "         n_z=2)  # dimensionality of latent space\n",
        "\n",
        "vae2d = train(network_architecture, training_epochs=75)"
      ],
      "execution_count": 0,
      "outputs": [
        {
          "output_type": "stream",
          "text": [
            "Epoch: 0001 cost= 189.942932240\n",
            "Epoch: 0006 cost= 153.421998790\n",
            "Epoch: 0011 cost= 147.835444586\n",
            "Epoch: 0016 cost= 145.450383883\n",
            "Epoch: 0021 cost= 143.777885382\n",
            "Epoch: 0026 cost= 142.796931444\n",
            "Epoch: 0031 cost= 141.974248740\n",
            "Epoch: 0036 cost= 141.420707453\n",
            "Epoch: 0041 cost= 140.794215726\n",
            "Epoch: 0046 cost= 140.352970886\n",
            "Epoch: 0051 cost= 139.981556924\n",
            "Epoch: 0056 cost= 139.609949216\n",
            "Epoch: 0061 cost= 139.352850800\n",
            "Epoch: 0066 cost= 139.107881664\n",
            "Epoch: 0071 cost= 138.828954787\n"
          ],
          "name": "stdout"
        }
      ]
    },
    {
      "cell_type": "markdown",
      "metadata": {
        "id": "Sc73QBmDvvJ-",
        "colab_type": "text"
      },
      "source": [
        "### z = 20"
      ]
    },
    {
      "cell_type": "code",
      "metadata": {
        "id": "JJMUJ9B-zmdQ",
        "colab_type": "code",
        "outputId": "90904c1c-677e-48e5-a24b-5aa45409430c",
        "colab": {
          "base_uri": "https://localhost:8080/",
          "height": 336
        }
      },
      "source": [
        "network_architecture = \\\n",
        "    dict(n_hidden_recog_1=500, # 1st layer encoder neurons\n",
        "         n_hidden_recog_2=500, # 2nd layer encoder neurons\n",
        "         n_hidden_gener_1=500, # 1st layer decoder neurons\n",
        "         n_hidden_gener_2=500, # 2nd layer decoder neurons\n",
        "         n_input=784, # MNIST data input (img shape: 28*28)\n",
        "         n_z=20)  # dimensionality of latent space\n",
        "vae20d = train(network_architecture, training_epochs=75)"
      ],
      "execution_count": 0,
      "outputs": [
        {
          "output_type": "stream",
          "text": [
            "/usr/local/lib/python3.6/dist-packages/tensorflow/python/client/session.py:1735: UserWarning: An interactive session is already active. This can cause out-of-memory errors in some cases. You must explicitly call `InteractiveSession.close()` to release resources held by the other session(s).\n",
            "  warnings.warn('An interactive session is already active. This can '\n"
          ],
          "name": "stderr"
        },
        {
          "output_type": "stream",
          "text": [
            "Epoch: 0001 cost= 175.385715582\n",
            "Epoch: 0006 cost= 108.735497520\n",
            "Epoch: 0011 cost= 103.660544212\n",
            "Epoch: 0016 cost= 101.065984677\n",
            "Epoch: 0021 cost= 99.553647711\n",
            "Epoch: 0026 cost= 98.582706340\n",
            "Epoch: 0031 cost= 97.840509602\n",
            "Epoch: 0036 cost= 97.176331967\n",
            "Epoch: 0041 cost= 96.680742978\n",
            "Epoch: 0046 cost= 96.224940088\n",
            "Epoch: 0051 cost= 95.913286993\n",
            "Epoch: 0056 cost= 95.551155548\n",
            "Epoch: 0061 cost= 95.246001656\n",
            "Epoch: 0066 cost= nan\n",
            "Epoch: 0071 cost= nan\n"
          ],
          "name": "stdout"
        }
      ]
    },
    {
      "cell_type": "markdown",
      "metadata": {
        "id": "v_6VnTiNkViC",
        "colab_type": "text"
      },
      "source": [
        "## Reconstruction 결과\n",
        "VAE가 잠재 변수에서 이미지를 얼마나 잘 복원 할 수 있는지 확인합니다."
      ]
    },
    {
      "cell_type": "markdown",
      "metadata": {
        "id": "spudIOYjx61p",
        "colab_type": "text"
      },
      "source": [
        "### Z = 2"
      ]
    },
    {
      "cell_type": "code",
      "metadata": {
        "id": "BWVh-3AXzmdU",
        "colab_type": "code",
        "outputId": "a037743a-d25f-4feb-c9ad-7afef484053c",
        "colab": {
          "base_uri": "https://localhost:8080/",
          "height": 873
        }
      },
      "source": [
        "x_sample = mnist.test.next_batch(100)[0]\n",
        "x_reconstruct = vae2d.reconstruct(x_sample)\n",
        "\n",
        "plt.figure(figsize=(8, 12))\n",
        "for i in range(5):\n",
        "    plt.subplot(5, 2, 2*i + 1)\n",
        "    plt.imshow(x_sample[i].reshape(28, 28), vmin=0, vmax=1, cmap=\"gray\")\n",
        "    plt.title(\"Test input\")\n",
        "    plt.colorbar()\n",
        "    plt.subplot(5, 2, 2*i + 2)\n",
        "    plt.imshow(x_reconstruct[i].reshape(28, 28), vmin=0, vmax=1, cmap=\"gray\")\n",
        "    plt.title(\"Reconstruction\")\n",
        "    plt.colorbar()\n",
        "plt.tight_layout()"
      ],
      "execution_count": 0,
      "outputs": [
        {
          "output_type": "display_data",
          "data": {
            "image/png": "[encoded data removed]",
            "text/plain": [
              "<Figure size 576x864 with 20 Axes>"
            ]
          },
          "metadata": {
            "tags": []
          }
        }
      ]
    },
    {
      "cell_type": "markdown",
      "metadata": {
        "id": "u-b97RUryPfQ",
        "colab_type": "text"
      },
      "source": [
        "### Z = 20"
      ]
    },
    {
      "cell_type": "code",
      "metadata": {
        "id": "-nS6HVq6yNBd",
        "colab_type": "code",
        "outputId": "29519e81-9872-4611-cb38-a208174fbb24",
        "colab": {
          "base_uri": "https://localhost:8080/",
          "height": 873
        }
      },
      "source": [
        "x_sample = mnist.test.next_batch(100)[0]\n",
        "x_reconstruct = vae20d.reconstruct(x_sample)\n",
        "\n",
        "plt.figure(figsize=(8, 12))\n",
        "for i in range(5):\n",
        "    plt.subplot(5, 2, 2*i + 1)\n",
        "    plt.imshow(x_sample[i].reshape(28, 28), vmin=0, vmax=1, cmap=\"gray\")\n",
        "    plt.title(\"Test input\")\n",
        "    plt.colorbar()\n",
        "    plt.subplot(5, 2, 2*i + 2)\n",
        "    plt.imshow(x_reconstruct[i].reshape(28, 28), vmin=0, vmax=1, cmap=\"gray\")\n",
        "    plt.title(\"Reconstruction\")\n",
        "    plt.colorbar()\n",
        "plt.tight_layout()"
      ],
      "execution_count": 0,
      "outputs": [
        {
          "output_type": "display_data",
          "data": {
            "image/png": "[encoded data removed]",
            "text/plain": [
              "<Figure size 576x864 with 20 Axes>"
            ]
          },
          "metadata": {
            "tags": []
          }
        }
      ]
    },
    {
      "cell_type": "code",
      "metadata": {
        "id": "aMyGQXRJh1sP",
        "colab_type": "code",
        "outputId": "2d0fbffb-db90-43a8-cbf5-0ded763e2bea",
        "colab": {
          "base_uri": "https://localhost:8080/",
          "height": 186
        }
      },
      "source": [
        "print(vae2d.n_layers)\n",
        "print(vae20d.n_layers)"
      ],
      "execution_count": 0,
      "outputs": [
        {
          "output_type": "error",
          "ename": "AttributeError",
          "evalue": "ignored",
          "traceback": [
            "\u001b[0;31m---------------------------------------------------------------------------\u001b[0m",
            "\u001b[0;31mAttributeError\u001b[0m                            Traceback (most recent call last)",
            "\u001b[0;32m<ipython-input-10-eb94b1c61dc4>\u001b[0m in \u001b[0;36m<module>\u001b[0;34m()\u001b[0m\n\u001b[0;32m----> 1\u001b[0;31m \u001b[0mprint\u001b[0m\u001b[0;34m(\u001b[0m\u001b[0mvae2d\u001b[0m\u001b[0;34m.\u001b[0m\u001b[0mn_layers\u001b[0m\u001b[0;34m)\u001b[0m\u001b[0;34m\u001b[0m\u001b[0;34m\u001b[0m\u001b[0m\n\u001b[0m\u001b[1;32m      2\u001b[0m \u001b[0mprint\u001b[0m\u001b[0;34m(\u001b[0m\u001b[0mvae20d\u001b[0m\u001b[0;34m.\u001b[0m\u001b[0mn_layers\u001b[0m\u001b[0;34m)\u001b[0m\u001b[0;34m\u001b[0m\u001b[0;34m\u001b[0m\u001b[0m\n",
            "\u001b[0;31mAttributeError\u001b[0m: 'VariationalAutoencoder' object has no attribute 'n_layers'"
          ]
        }
      ]
    },
    {
      "cell_type": "markdown",
      "metadata": {
        "id": "rh5hm3g9jvjQ",
        "colab_type": "text"
      },
      "source": [
        "## Latent space visualization(1)\n",
        "2차원과 20차원의 Latent Space를 T-SNE 그래프로 확인합니다."
      ]
    },
    {
      "cell_type": "markdown",
      "metadata": {
        "id": "gop18HLyFc_z",
        "colab_type": "text"
      },
      "source": [
        "### T-SNE"
      ]
    },
    {
      "cell_type": "code",
      "metadata": {
        "id": "hfDm2StIzmdb",
        "colab_type": "code",
        "colab": {}
      },
      "source": [
        "# z = 2\n",
        "x_sample, y_sample = mnist.test.next_batch(5000)\n",
        "z_mu = vae2d.transform(x_sample)\n",
        "plt.figure(figsize=(8, 6)) \n",
        "plt.scatter(z_mu[:, 0], z_mu[:, 1], c=np.argmax(y_sample, 1))\n",
        "plt.colorbar()\n",
        "plt.title(\"2D Latent Space\")\n",
        "plt.grid()\n",
        "# z = 20\n",
        "x_sample, y_sample = mnist.test.next_batch(5000)\n",
        "z_mu = vae20d.transform(x_sample)\n",
        "plt.figure(figsize=(8, 6)) \n",
        "plt.scatter(z_mu[:, 0], z_mu[:,1], c=np.argmax(y_sample, 1))\n",
        "plt.colorbar()\n",
        "plt.title(\"20D Latent Space\")\n",
        "plt.grid()"
      ],
      "execution_count": 0,
      "outputs": []
    },
    {
      "cell_type": "markdown",
      "metadata": {
        "id": "ZEDm3J2mFkDH",
        "colab_type": "text"
      },
      "source": [
        "## Latent space visualization(2)\n",
        "\n",
        "학습된 MNIST의 Manifold를 확인하기 위해 2D Latent Space 위치에 디코더(Generator Network)로 생성한 복원 데이터를 표시합니다. "
      ]
    },
    {
      "cell_type": "markdown",
      "metadata": {
        "id": "w8L22HrfBoLG",
        "colab_type": "text"
      },
      "source": [
        "### Manifold(z=2)"
      ]
    },
    {
      "cell_type": "code",
      "metadata": {
        "id": "t763xaQ2zmde",
        "colab_type": "code",
        "colab": {}
      },
      "source": [
        "nx = ny = 20\n",
        "x_values = np.linspace(-3, 3, nx)\n",
        "y_values = np.linspace(-3, 3, ny)\n",
        "\n",
        "canvas = np.empty((28*ny, 28*nx))\n",
        "for i, yi in enumerate(x_values):\n",
        "    for j, xi in enumerate(y_values):\n",
        "        z_mu = np.array([[xi, yi]]*vae2d.batch_size)\n",
        "        x_mean = vae2d.generate(z_mu)\n",
        "        canvas[(nx-i-1)*28:(nx-i)*28, j*28:(j+1)*28] = x_mean[0].reshape(28, 28)\n",
        "\n",
        "plt.figure(figsize=(8, 10))        \n",
        "Xi, Yi = np.meshgrid(x_values, y_values)\n",
        "plt.title(\"Manifold\")\n",
        "plt.imshow(canvas, origin=\"upper\", cmap=\"gray\")\n",
        "plt.tight_layout()"
      ],
      "execution_count": 0,
      "outputs": []
    },
    {
      "cell_type": "markdown",
      "metadata": {
        "id": "s0n8poLRtnhy",
        "colab_type": "text"
      },
      "source": [
        "### Interpolation(작성중..)"
      ]
    },
    {
      "cell_type": "code",
      "metadata": {
        "id": "r_ouhHI9XKTF",
        "colab_type": "code",
        "colab": {}
      },
      "source": [
        "nx = ny = 20\n",
        "x_values = np.linspace(-3, 3, nx)\n",
        "y_values = np.linspace(-3, 3, ny)\n",
        "\n",
        "canvas = np.empty((28*ny, 28*nx))\n",
        "for i, yi in enumerate(x_values):\n",
        "    for j, xi in enumerate(y_values):\n",
        "        z_mu = np.array([[xi, yi]]*vae2d.batch_size)\n",
        "        x_mean = vae2d.generate(z_mu)\n",
        "        canvas[(nx-i-1)*28:(nx-i)*28, j*28:(j+1)*28] = x_mean[0].reshape(28, 28)\n",
        "\n",
        "plt.figure(figsize=(8, 10))        \n",
        "Xi, Yi = np.meshgrid(x_values, y_values)\n",
        "plt.title(\"Manifold\")\n",
        "plt.imshow(canvas, origin=\"upper\", cmap=\"gray\")\n",
        "plt.tight_layout()"
      ],
      "execution_count": 0,
      "outputs": []
    },
    {
      "cell_type": "markdown",
      "metadata": {
        "id": "yQI_yVgVgOcn",
        "colab_type": "text"
      },
      "source": [
        ""
      ]
    },
    {
      "cell_type": "markdown",
      "metadata": {
        "id": "kZUaCJmn51dn",
        "colab_type": "text"
      },
      "source": [
        "###reference\n",
        "\n",
        "*   https://arxiv.org/pdf/1312.6114.pdf\n",
        "*   https://jmetzen.github.io/2015-11-27/vae.html\n",
        "*   https://lilianweng.github.io/lil-log/2018/08/12/from-autoencoder-to-beta-vae.html\n",
        "*   https://nbviewer.jupyter.org/github/wangz10/Generative-Models/blob/master/Main.ipynb?source=post_page---------------------------\n",
        "*   https://thilospinner.com/towards-an-interpretable-latent-space/\n",
        "*   https://blog.naver.com/cjh226/221402492200\n",
        "\n"
      ]
    }
  ]
}